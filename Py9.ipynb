{
 "cells": [
  {
   "cell_type": "markdown",
   "metadata": {},
   "source": [
    "---\n",
    "\n",
    "**Universidad de Costa Rica** | Escuela de Ingeniería Eléctrica\n",
    "\n",
    "*IE0405 - Modelos Probabilísticos de Señales y Sistemas*\n",
    "\n",
    "### `PyX` - Serie de tutoriales de Python para el análisis de datos\n",
    "\n",
    "\n",
    "# `Py9` - *Principios de programación orientada a objetos*\n",
    "\n",
    "> Python es un lenguaje de programación orientado a objetos (**OOP**, del inglés *Object-Oriented Programming*), como también lo son C++, Java, C#, Swift, JavaScript y otros populares. La comprensión del paradigma permite manipular las librerías utilizadas y diseñar algoritmos de una mejor manera. En este documento hay una explicación de conceptos básicos junto con la creación de ejemplos de clases y objetos en Python, además de algunos principios de diseño de software.\n",
    "\n",
    "*Fabián Abarca Calderón*\n",
    "\n",
    "---"
   ]
  },
  {
   "cell_type": "markdown",
   "metadata": {},
   "source": [
    "## Fundamentos de OOP\n",
    "\n",
    "Para empezar, haremos un repaso de tipos de gráficos usuales en estadística y análisis de datos.\n",
    "\n",
    "Problema de ejemplo\n",
    "\n",
    "A lo largo de este tutorial, haremos un problema de ejemplo que implementa los conceptos estudiados. El problema es descrito a continuación:\n",
    "\n",
    "> Es necesaria la creación de una librería que haga esto y lo otro, aquí y allá, antes y después.\n",
    "\n",
    "### Abstracción\n",
    "\n",
    "### Encapsulación\n",
    "\n",
    "### Herencia\n",
    "\n",
    "### Polimorfismo\n",
    "\n",
    "\n",
    "## Principios de diseño de software\n",
    "\n",
    "### Principios SOLID\n",
    "\n",
    "### Nociones de los patrones de diseño"
   ]
  },
  {
   "cell_type": "markdown",
   "metadata": {},
   "source": [
    "---\n",
    "### Más información\n",
    "\n",
    "* Alexander Shvets (2021). \"Sumérgete en los patrones de diseño\". En [refactoring.guru](https://refactoring.guru/design-patterns/book)."
   ]
  },
  {
   "cell_type": "markdown",
   "metadata": {},
   "source": [
    "---\n",
    "**Universidad de Costa Rica** | Facultad de Ingeniería | Escuela de Ingeniería Eléctrica\n",
    "\n",
    "&copy; 2022\n",
    "\n",
    "---"
   ]
  }
 ],
 "metadata": {
  "kernelspec": {
   "display_name": "Python 3 (ipykernel)",
   "language": "python",
   "name": "python3"
  },
  "language_info": {
   "codemirror_mode": {
    "name": "ipython",
    "version": 3
   },
   "file_extension": ".py",
   "mimetype": "text/x-python",
   "name": "python",
   "nbconvert_exporter": "python",
   "pygments_lexer": "ipython3",
   "version": "3.9.12"
  }
 },
 "nbformat": 4,
 "nbformat_minor": 2
}
