{
 "cells": [
  {
   "cell_type": "markdown",
   "metadata": {},
   "source": [
    "---\n",
    "\n",
    "**Universidad de Costa Rica** | Escuela de Ingeniería Eléctrica\n",
    "\n",
    "*IE0405 - Modelos Probabilísticos de Señales y Sistemas*\n",
    "\n",
    "### `PyX` - Serie de tutoriales de Python para el análisis de datos\n",
    "\n",
    "\n",
    "# `Py9` - *Bases de datos SQL con Python*\n",
    "\n",
    "> Las bases de datos relacionales permiten...\n",
    "\n",
    "*Fabián Abarca Calderón*\n",
    "\n",
    "---"
   ]
  },
  {
   "cell_type": "markdown",
   "metadata": {},
   "source": [
    "En este tutorial los objetivos son:\n",
    "    \n",
    "- Aprender los conceptos básicos de bases de datos relacionales\n",
    "- Usar SQLite (una base de datos en un archivo binario)\n",
    "- Usar SQLAlchemy (un ORM de Python)\n",
    "- Usar Pandas para manipulación de datos\n",
    "- Usar una base de datos CSV de ejemplo\n",
    "- Hacer operaciones CRUD de práctica"
   ]
  },
  {
   "cell_type": "markdown",
   "metadata": {},
   "source": [
    "## Bases de datos relacionales\n",
    "\n",
    "Mapeo de la relación entre dos variables en un plano cartesiano.\n",
    "\n",
    "### Bases de datos SQL\n",
    "\n",
    "- PostgreSQL\n",
    "- SQLite\n",
    "- ...\n",
    "\n",
    "### Esquemas\n",
    "\n",
    "Los esquemas definen la estructura dentro de una tabla de una base de datos, incluyendo el tipo de dato, el tamaño y otras características...\n",
    "\n",
    "### SQLite\n"
   ]
  },
  {
   "cell_type": "markdown",
   "metadata": {},
   "source": []
  },
  {
   "cell_type": "markdown",
   "metadata": {},
   "source": [
    "### SQLAlchemy\n",
    "\n",
    "SQLAlchemy es un paquete de Python para manipular bases de datos tipo SQL.\n",
    "\n",
    "- Database driver: Psycopg2\n",
    "- ORM (Object Relational Mapping): SQLAlchemy"
   ]
  },
  {
   "cell_type": "code",
   "execution_count": null,
   "metadata": {},
   "outputs": [],
   "source": [
    "from sqlalchemy import Column\n",
    "\n",
    "class Persona():\n",
    "    \"\"\"Ejemplo de clase para tabla\n",
    "    \n",
    "    Esta es la información de una base de datos\n",
    "    de registro de usuarios.\n",
    "    \"\"\"\n",
    "    nombre = Column(Integer, adsf)\n"
   ]
  },
  {
   "cell_type": "markdown",
   "metadata": {},
   "source": [
    "### Creación de base de datos SQLite3\n",
    "\n",
    "Ahora... taca taca"
   ]
  },
  {
   "cell_type": "code",
   "execution_count": null,
   "metadata": {},
   "outputs": [],
   "source": [
    "# Creación de SQLite3"
   ]
  },
  {
   "cell_type": "markdown",
   "metadata": {},
   "source": [
    "### Operaciones CRUD\n",
    "\n",
    "Create, Read, Update, Delete"
   ]
  },
  {
   "cell_type": "code",
   "execution_count": null,
   "metadata": {},
   "outputs": [],
   "source": [
    "# Ejemplo de CRUD"
   ]
  },
  {
   "cell_type": "markdown",
   "metadata": {},
   "source": [
    "## Pandas para manipulación de bases de datos"
   ]
  },
  {
   "cell_type": "markdown",
   "metadata": {},
   "source": [
    "---\n",
    "### Más información\n",
    "\n",
    "* [Página web](https://www.google.com/)\n",
    "* Libro o algo\n",
    "* Tutorial [w3schools](https://www.w3schools.com/python/)"
   ]
  },
  {
   "cell_type": "markdown",
   "metadata": {},
   "source": [
    "---\n",
    "**Universidad de Costa Rica** | Facultad de Ingeniería | Escuela de Ingeniería Eléctrica\n",
    "\n",
    "&copy; 2023\n",
    "\n",
    "---"
   ]
  }
 ],
 "metadata": {
  "kernelspec": {
   "display_name": "Python 3 (ipykernel)",
   "language": "python",
   "name": "python3"
  },
  "language_info": {
   "codemirror_mode": {
    "name": "ipython",
    "version": 3
   },
   "file_extension": ".py",
   "mimetype": "text/x-python",
   "name": "python",
   "nbconvert_exporter": "python",
   "pygments_lexer": "ipython3",
   "version": "3.9.12"
  }
 },
 "nbformat": 4,
 "nbformat_minor": 2
}
