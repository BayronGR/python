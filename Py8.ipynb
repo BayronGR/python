{
 "cells": [
  {
   "cell_type": "markdown",
   "metadata": {},
   "source": [
    "---\n",
    "\n",
    "**Universidad de Costa Rica** | Escuela de Ingeniería Eléctrica\n",
    "\n",
    "*IE0405 - Modelos Probabilísticos de Señales y Sistemas*\n",
    "\n",
    "### `PyX` - Serie de tutoriales de Python para el análisis de datos\n",
    "\n",
    "\n",
    "# `Py8` - *Principios de programación orientada a objetos*\n",
    "\n",
    "> Python es un lenguaje de programación orientado a objetos (**OOP**, del inglés *Object-Oriented Programming*), como también lo son C++, Java, C#, Swift, JavaScript y otros populares. La comprensión del paradigma permite manipular las librerías utilizadas y diseñar algoritmos de una mejor manera. Este documento contiene una explicación de conceptos básicos junto con la creación de ejemplos de clases y objetos en Python, además de algunos principios de diseño de software.\n",
    "\n",
    "*Fabián Abarca Calderón*\n",
    "\n",
    "---"
   ]
  },
  {
   "cell_type": "markdown",
   "metadata": {},
   "source": [
    "## Fundamentos de OOP\n",
    "\n",
    "#### Notación del punto\n",
    "\n",
    "Ejemplos:\n",
    "\n",
    "- `var` es una **variable**\n",
    "- `fun()` es una **función**\n",
    "- `.atr` es un **atributo** de una clase u objeto\n",
    "- `.met()` es un **método** de una clase u objeto\n",
    "\n",
    "Ejemplo:\n",
    "\n",
    "```python\n",
    "# Definición de una variable\n",
    "var = 25\n",
    "\n",
    "# Definición de una función\n",
    "def fun(num):\n",
    "    return num**2\n",
    "\n",
    "# Definición de una clase\n",
    "class Ope:\n",
    "    # Definición de un atributo en una clase\n",
    "    def __init__(self, atr):\n",
    "        self.atr = atr\n",
    "    \n",
    "    # Definición de un método en una clase\n",
    "    def met(self):\n",
    "        return self.atr**2\n",
    "\n",
    "# Ejecución de la función\n",
    "print(f'La función da: {op(num)}')\n",
    "\n",
    "# Creación de un objeto con el atributo \"num\"\n",
    "obj = Ope(num)\n",
    "print(f'El método da: {obj.met()}')\n",
    "```\n",
    "\n",
    "*Nota*: Python tiene un \"sistema de tipos\" dinámico (*dynamically typed*), esto quiere decir que el *tipo* de variable (entero, flotante, literal...) no es explícitamente declarado sino que es comprobado durante la ejecución. Por ejemplo:\n",
    "\n",
    "```python\n",
    "# Un número entero\n",
    "var1 = 3\n",
    "\n",
    "# Un número flotante\n",
    "var2 = 3.0\n",
    "\n",
    "# Una cadena de caracteres con el símbolo 3\n",
    "var3 = \"3\"\n",
    "\n",
    "# Una lista con el valor 3\n",
    "var4 = [3]\n",
    "```\n",
    "\n",
    "## Conceptos de programación orientada a objetos\n",
    "\n",
    "### Abstracción\n",
    "\n",
    "### Encapsulación\n",
    "\n",
    "### Herencia\n",
    "\n",
    "### Polimorfismo\n",
    "\n"
   ]
  },
  {
   "cell_type": "markdown",
   "metadata": {},
   "source": [
    "\n",
    "## Principios de diseño de software\n",
    "\n",
    "Para: escalabilidad, trazabilidad, mantenimiento, flexibilidad... una \"reflexión\"\n",
    "\n",
    "Siempre un ejemplo ejecutable y, opcionalmente, un ejercicio para aplicar el principio respectivo.\n",
    "\n",
    "### Principios SOLID\n",
    "\n",
    "#### Principio de responsabilidad única (*Single-Responsibility Principle*, **SRP**)\n",
    "#### Principio de abierto/cerrado (*Open-Closed Principle*, **OCP**)\n",
    "#### Principio de sustitución de Liskov (*Liskov Substitution Principle*, **LSP**)\n",
    "#### Principio de segregación de la interfaz (*Interface Segregation Principle*, **ISP**)\n",
    "#### Principio de inversión de la dependencia (*Dependency Inversion Principle*, **DIP**)\n",
    "\n",
    "### Nociones de los patrones de diseño"
   ]
  },
  {
   "cell_type": "markdown",
   "metadata": {},
   "source": [
    "---\n",
    "### Más información\n",
    "\n",
    "* Alexander Shvets (2021). \"Sumérgete en los patrones de diseño\". En [refactoring.guru](https://refactoring.guru/design-patterns/book).\n",
    "* Leodanis Pozo Ramos (2023). \"SOLID Principles: Improve Object-Oriented Design in Python\". En [Real Python](https://realpython.com/solid-principles-python/)."
   ]
  },
  {
   "cell_type": "markdown",
   "metadata": {},
   "source": [
    "---\n",
    "**Universidad de Costa Rica** | Facultad de Ingeniería | Escuela de Ingeniería Eléctrica\n",
    "\n",
    "&copy; 2023\n",
    "\n",
    "---"
   ]
  }
 ],
 "metadata": {
  "kernelspec": {
   "display_name": "Python 3 (ipykernel)",
   "language": "python",
   "name": "python3"
  },
  "language_info": {
   "codemirror_mode": {
    "name": "ipython",
    "version": 3
   },
   "file_extension": ".py",
   "mimetype": "text/x-python",
   "name": "python",
   "nbconvert_exporter": "python",
   "pygments_lexer": "ipython3",
   "version": "3.9.12"
  }
 },
 "nbformat": 4,
 "nbformat_minor": 2
}
